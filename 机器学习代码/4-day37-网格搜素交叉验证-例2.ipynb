{
 "cells": [
  {
   "cell_type": "code",
   "execution_count": 1,
   "outputs": [
    {
     "name": "stdout",
     "output_type": "stream",
     "text": [
      "Best Hyperparameters: {'C': 1, 'kernel': 'linear'}\n",
      "Average Cross-Validation Accuracy: 0.9583333333333334\n",
      "Test Set Accuracy: 1.0\n"
     ]
    }
   ],
   "source": [
    "from sklearn.model_selection import cross_val_score, train_test_split\n",
    "from sklearn.svm import SVC\n",
    "from sklearn.datasets import load_iris\n",
    "from sklearn.metrics import accuracy_score\n",
    "\n",
    "# 加载数据集\n",
    "iris = load_iris()\n",
    "X, y = iris.data, iris.target\n",
    "\n",
    "# 划分训练集和测试集\n",
    "X_train, X_test, y_train, y_test = train_test_split(X, y, test_size=0.2, random_state=42)\n",
    "\n",
    "# 定义超参数候选列表\n",
    "param_grid = {'C': [0.1, 1, 10], 'kernel': ['linear', 'rbf']}\n",
    "\n",
    "best_accuracy = 0 # 初始化最高准确率\n",
    "best_params = None # 初始化最佳超参数组合\n",
    "\n",
    "# 使用交叉验证进行网格搜索\n",
    "for C in param_grid['C']:# 遍历超参数C的候选值\n",
    "    for kernel in param_grid['kernel']:\n",
    "        # 创建SVM分类器，并设置超参数C和核函数类型\n",
    "        svm = SVC(C=C, kernel=kernel) # 创建SVM分类器\n",
    "        # 进行5折交叉验证，计算平均准确率\n",
    "        accuracy = cross_val_score(svm, X_train, y_train, cv=5, scoring='accuracy').mean()\n",
    "        if accuracy > best_accuracy:\n",
    "            best_accuracy = accuracy\n",
    "            best_params = {'C': C, 'kernel': kernel}\n",
    "\n",
    "# 使用最佳超参数在整个训练集上训练模型\n",
    "best_svm = SVC(C=best_params['C'], kernel=best_params['kernel'])\n",
    "best_svm.fit(X_train, y_train)\n",
    "\n",
    "# 在测试集上进行预测\n",
    "y_pred = best_svm.predict(X_test)\n",
    "test_accuracy = accuracy_score(y_test, y_pred)\n",
    "\n",
    "# 打印结果\n",
    "print(\"Best Hyperparameters:\", best_params)\n",
    "print(\"Average Cross-Validation Accuracy:\", best_accuracy)\n",
    "print(\"Test Set Accuracy:\", test_accuracy)\n",
    "\n"
   ],
   "metadata": {
    "collapsed": false,
    "pycharm": {
     "name": "#%%\n"
    }
   }
  }
 ],
 "metadata": {
  "kernelspec": {
   "display_name": "Python 3",
   "language": "python",
   "name": "python3"
  },
  "language_info": {
   "codemirror_mode": {
    "name": "ipython",
    "version": 2
   },
   "file_extension": ".py",
   "mimetype": "text/x-python",
   "name": "python",
   "nbconvert_exporter": "python",
   "pygments_lexer": "ipython2",
   "version": "2.7.6"
  }
 },
 "nbformat": 4,
 "nbformat_minor": 0
}