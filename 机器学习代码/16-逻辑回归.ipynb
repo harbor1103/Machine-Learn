{
 "cells": [
  {
   "cell_type": "markdown",
   "source": [
    "# 3、练习逻辑回归案例，调整参数，得到最佳精确率及召回率"
   ],
   "metadata": {
    "collapsed": false
   }
  },
  {
   "cell_type": "code",
   "execution_count": 1,
   "outputs": [],
   "source": [
    "#逻辑回归"
   ],
   "metadata": {
    "collapsed": false,
    "pycharm": {
     "name": "#%%\n"
    }
   }
  },
  {
   "cell_type": "code",
   "execution_count": 2,
   "outputs": [],
   "source": [
    "# x=np.arange(0,1,0.01)\n",
    "# import matplotlib.pyplot as plt\n",
    "# plt.plot(x,-np.log(x))  #以e为底部\n",
    "# plt.show()\n",
    "# x=np.arange(0,1,0.01)\n",
    "# import matplotlib.pyplot as plt\n",
    "# plt.plot(x,-np.log(1-x))\n",
    "# plt.show()"
   ],
   "metadata": {
    "collapsed": false,
    "pycharm": {
     "name": "#%%\n"
    }
   }
  },
  {
   "cell_type": "code",
   "execution_count": 7,
   "outputs": [
    {
     "name": "stdout",
     "output_type": "stream",
     "text": [
      "<class 'pandas.core.frame.DataFrame'>\n",
      "RangeIndex: 699 entries, 0 to 698\n",
      "Data columns (total 11 columns):\n",
      " #   Column                       Non-Null Count  Dtype \n",
      "---  ------                       --------------  ----- \n",
      " 0   Sample code number           699 non-null    int64 \n",
      " 1   Clump Thickness              699 non-null    int64 \n",
      " 2   Uniformity of Cell Size      699 non-null    int64 \n",
      " 3   Uniformity of Cell Shape     699 non-null    int64 \n",
      " 4   Marginal Adhesion            699 non-null    int64 \n",
      " 5   Single Epithelial Cell Size  699 non-null    int64 \n",
      " 6   Bare Nuclei                  699 non-null    object\n",
      " 7   Bland Chromatin              699 non-null    int64 \n",
      " 8   Normal Nucleoli              699 non-null    int64 \n",
      " 9   Mitoses                      699 non-null    int64 \n",
      " 10  Class                        699 non-null    int64 \n",
      "dtypes: int64(10), object(1)\n",
      "memory usage: 60.2+ KB\n",
      "None\n",
      "****************************************************************************************************\n",
      "        Sample code number  Clump Thickness  Uniformity of Cell Size  \\\n",
      "count         6.990000e+02       699.000000               699.000000   \n",
      "unique                 NaN              NaN                      NaN   \n",
      "top                    NaN              NaN                      NaN   \n",
      "freq                   NaN              NaN                      NaN   \n",
      "mean          1.071704e+06         4.417740                 3.134478   \n",
      "std           6.170957e+05         2.815741                 3.051459   \n",
      "min           6.163400e+04         1.000000                 1.000000   \n",
      "25%           8.706885e+05         2.000000                 1.000000   \n",
      "50%           1.171710e+06         4.000000                 1.000000   \n",
      "75%           1.238298e+06         6.000000                 5.000000   \n",
      "max           1.345435e+07        10.000000                10.000000   \n",
      "\n",
      "        Uniformity of Cell Shape  Marginal Adhesion  \\\n",
      "count                 699.000000         699.000000   \n",
      "unique                       NaN                NaN   \n",
      "top                          NaN                NaN   \n",
      "freq                         NaN                NaN   \n",
      "mean                    3.207439           2.806867   \n",
      "std                     2.971913           2.855379   \n",
      "min                     1.000000           1.000000   \n",
      "25%                     1.000000           1.000000   \n",
      "50%                     1.000000           1.000000   \n",
      "75%                     5.000000           4.000000   \n",
      "max                    10.000000          10.000000   \n",
      "\n",
      "        Single Epithelial Cell Size Bare Nuclei  Bland Chromatin  \\\n",
      "count                    699.000000         699       699.000000   \n",
      "unique                          NaN          11              NaN   \n",
      "top                             NaN           1              NaN   \n",
      "freq                            NaN         402              NaN   \n",
      "mean                       3.216023         NaN         3.437768   \n",
      "std                        2.214300         NaN         2.438364   \n",
      "min                        1.000000         NaN         1.000000   \n",
      "25%                        2.000000         NaN         2.000000   \n",
      "50%                        2.000000         NaN         3.000000   \n",
      "75%                        4.000000         NaN         5.000000   \n",
      "max                       10.000000         NaN        10.000000   \n",
      "\n",
      "        Normal Nucleoli     Mitoses       Class  \n",
      "count        699.000000  699.000000  699.000000  \n",
      "unique              NaN         NaN         NaN  \n",
      "top                 NaN         NaN         NaN  \n",
      "freq                NaN         NaN         NaN  \n",
      "mean           2.866953    1.589413    2.689557  \n",
      "std            3.053634    1.715078    0.951273  \n",
      "min            1.000000    1.000000    2.000000  \n",
      "25%            1.000000    1.000000    2.000000  \n",
      "50%            1.000000    1.000000    2.000000  \n",
      "75%            4.000000    1.000000    4.000000  \n",
      "max           10.000000   10.000000    4.000000  \n",
      "****************************************************************************************************\n"
     ]
    }
   ],
   "source": [
    "import pandas as pd\n",
    "\n",
    "\"\"\"\n",
    "逻辑回归做二分类进行癌症预测（根据细胞的属性特征）\n",
    ":return: NOne\n",
    "\"\"\"\n",
    "# 构造列标签名字\n",
    "column = ['Sample code number', 'Clump Thickness', 'Uniformity of Cell Size', 'Uniformity of Cell Shape',\n",
    "          'Marginal Adhesion', 'Single Epithelial Cell Size', 'Bare Nuclei', 'Bland Chromatin', 'Normal Nucleoli',\n",
    "          'Mitoses', 'Class']\n",
    "\n",
    "# 读取数据\n",
    "data = pd.read_csv(\n",
    "    \"../MachineData/data/breast-cancer-wisconsin.csv\",\n",
    "    names=column)\n",
    "\n",
    "# print(data) #想看可以解除\n",
    "#当你读取数据时，看上去是数值的列，读进来是字符串，说明里边\n",
    "# 存在了非数值情况\n",
    "print(data.info())\n",
    "print('*'*100)\n",
    "print(data.describe(include='all'))\n",
    "print('*'*100)"
   ],
   "metadata": {
    "collapsed": false,
    "pycharm": {
     "name": "#%%\n"
    }
   }
  },
  {
   "cell_type": "code",
   "execution_count": 8,
   "outputs": [
    {
     "data": {
      "text/plain": "array(['1', '10', '2', '4', '3', '9', '7', '?', '5', '8', '6'],\n      dtype=object)"
     },
     "execution_count": 8,
     "metadata": {},
     "output_type": "execute_result"
    }
   ],
   "source": [
    "data['Bare Nuclei'].unique()"
   ],
   "metadata": {
    "collapsed": false,
    "pycharm": {
     "name": "#%%\n"
    }
   }
  },
  {
   "cell_type": "code",
   "execution_count": 9,
   "outputs": [
    {
     "name": "stdout",
     "output_type": "stream",
     "text": [
      "(699, 11)\n",
      "--------------------------------------------------\n",
      "(683, 11)\n"
     ]
    }
   ],
   "source": [
    "import numpy as np\n",
    "# 缺失值进行处理\n",
    "print(data.shape)\n",
    "data = data.replace(to_replace='?', value=np.nan)\n",
    "#直接删除，哪一行有空值，就删除对应的样本\n",
    "data = data.dropna()\n",
    "print('-' * 50)\n",
    "print(data.shape)"
   ],
   "metadata": {
    "collapsed": false,
    "pycharm": {
     "name": "#%%\n"
    }
   }
  },
  {
   "cell_type": "code",
   "execution_count": 10,
   "outputs": [
    {
     "name": "stdout",
     "output_type": "stream",
     "text": [
      "<class 'pandas.core.frame.DataFrame'>\n",
      "Index: 683 entries, 0 to 698\n",
      "Data columns (total 11 columns):\n",
      " #   Column                       Non-Null Count  Dtype \n",
      "---  ------                       --------------  ----- \n",
      " 0   Sample code number           683 non-null    int64 \n",
      " 1   Clump Thickness              683 non-null    int64 \n",
      " 2   Uniformity of Cell Size      683 non-null    int64 \n",
      " 3   Uniformity of Cell Shape     683 non-null    int64 \n",
      " 4   Marginal Adhesion            683 non-null    int64 \n",
      " 5   Single Epithelial Cell Size  683 non-null    int64 \n",
      " 6   Bare Nuclei                  683 non-null    object\n",
      " 7   Bland Chromatin              683 non-null    int64 \n",
      " 8   Normal Nucleoli              683 non-null    int64 \n",
      " 9   Mitoses                      683 non-null    int64 \n",
      " 10  Class                        683 non-null    int64 \n",
      "dtypes: int64(10), object(1)\n",
      "memory usage: 64.0+ KB\n"
     ]
    }
   ],
   "source": [
    "data.info()"
   ],
   "metadata": {
    "collapsed": false,
    "pycharm": {
     "name": "#%%\n"
    }
   }
  },
  {
   "cell_type": "code",
   "execution_count": 11,
   "outputs": [
    {
     "data": {
      "text/plain": "'Class'"
     },
     "execution_count": 11,
     "metadata": {},
     "output_type": "execute_result"
    }
   ],
   "source": [
    "column[10]"
   ],
   "metadata": {
    "collapsed": false,
    "pycharm": {
     "name": "#%%\n"
    }
   }
  },
  {
   "cell_type": "code",
   "execution_count": 12,
   "outputs": [
    {
     "data": {
      "text/plain": "array([2, 4], dtype=int64)"
     },
     "execution_count": 12,
     "metadata": {},
     "output_type": "execute_result"
    }
   ],
   "source": [
    "#分类的类别是2和4,对应 \"良性\", \"恶性\"\n",
    "data[column[10]].unique()"
   ],
   "metadata": {
    "collapsed": false,
    "pycharm": {
     "name": "#%%\n"
    }
   }
  },
  {
   "cell_type": "code",
   "execution_count": 13,
   "outputs": [
    {
     "data": {
      "text/plain": "array([-1.21629973, -0.70863282, -0.75174943,  0.04301674, -0.55657068,\n       -0.71054972, -0.99312055, -0.62911518, -0.36280962])"
     },
     "execution_count": 13,
     "metadata": {},
     "output_type": "execute_result"
    }
   ],
   "source": [
    "from sklearn.model_selection import train_test_split\n",
    "# 进行数据的分割,第零列是编号\n",
    "x_train, x_test, y_train, y_test = train_test_split(data[column[1:10]], data[column[10]], test_size=0.25,\n",
    "                                                    random_state=1)\n",
    "from sklearn.preprocessing import StandardScaler\n",
    "# 进行标准化处理\n",
    "std = StandardScaler()\n",
    "\n",
    "x_train = std.fit_transform(x_train)\n",
    "x_test = std.transform(x_test)\n",
    "x_train[0]"
   ],
   "metadata": {
    "collapsed": false,
    "pycharm": {
     "name": "#%%\n"
    }
   }
  },
  {
   "cell_type": "code",
   "execution_count": 14,
   "outputs": [
    {
     "name": "stdout",
     "output_type": "stream",
     "text": [
      "逻辑回归的训练时间： 0.004999637603759766\n",
      "--------------------------------------------------\n",
      "[[1.11338349 0.25318205 0.79179858 0.6101445  0.07131729 1.10929053\n",
      "  0.77807397 0.64397888 0.67834428]]\n",
      "--------------------------------------------------\n",
      "[2 2 2 4 2 4 2 2 4 4 2 2 4 2 2 4 2 2 2 2 2 2 2 4 4 2 2 2 4 4 2 2 4 4 2 4 2\n",
      " 2 4 4 4 2 2 4 2 2 2 2 4 2 2 2 4 2 2 2 4 2 2 2 2 4 2 2 2 4 2 4 4 2 2 4 2 2\n",
      " 4 2 2 2 2 2 2 2 4 2 4 4 2 2 2 4 2 2 4 2 2 4 4 2 2 4 2 2 4 4 2 2 2 2 4 2 4\n",
      " 4 2 4 2 4 2 2 2 2 4 2 4 2 2 2 2 2 4 2 2 2 2 2 2 2 4 2 4 4 2 2 4 2 2 2 2 4\n",
      " 2 2 2 2 2 4 2 4 2 4 2 2 4 2 4 2 4 4 2 4 2 2 2]\n",
      "--------------------------------------------------\n",
      "准确率： 0.9824561403508771\n",
      "--------------------------------------------------\n",
      "444    2\n",
      "24     2\n",
      "195    2\n",
      "49     4\n",
      "375    2\n",
      "Name: Class, dtype: int64\n",
      "--------------------------------------------------\n",
      "[[9.49048995e-01 5.09510054e-02]\n",
      " [9.94950680e-01 5.04931965e-03]\n",
      " [9.83690562e-01 1.63094382e-02]\n",
      " [2.69271360e-02 9.73072864e-01]\n",
      " [9.97326148e-01 2.67385163e-03]\n",
      " [7.08794071e-04 9.99291206e-01]\n",
      " [9.91944009e-01 8.05599127e-03]\n",
      " [9.92202589e-01 7.79741143e-03]\n",
      " [7.10305916e-04 9.99289694e-01]\n",
      " [6.55711520e-04 9.99344288e-01]\n",
      " [9.87579963e-01 1.24200368e-02]\n",
      " [9.96200478e-01 3.79952239e-03]\n",
      " [1.32799505e-03 9.98672005e-01]\n",
      " [7.07167471e-01 2.92832529e-01]\n",
      " [9.88092719e-01 1.19072806e-02]\n",
      " [2.61415850e-03 9.97385841e-01]\n",
      " [9.87998723e-01 1.20012765e-02]\n",
      " [9.19652048e-01 8.03479523e-02]\n",
      " [9.89362128e-01 1.06378718e-02]\n",
      " [9.48515145e-01 5.14848551e-02]\n",
      " [9.80477133e-01 1.95228668e-02]\n",
      " [9.97326148e-01 2.67385163e-03]\n",
      " [9.88949761e-01 1.10502388e-02]\n",
      " [4.70876156e-01 5.29123844e-01]\n",
      " [9.71117456e-02 9.02888254e-01]\n",
      " [9.91848656e-01 8.15134443e-03]\n",
      " [9.94131729e-01 5.86827095e-03]\n",
      " [9.95024065e-01 4.97593452e-03]\n",
      " [1.01137419e-02 9.89886258e-01]\n",
      " [3.91917461e-01 6.08082539e-01]\n",
      " [9.64781130e-01 3.52188702e-02]\n",
      " [9.96037595e-01 3.96240526e-03]\n",
      " [2.05167797e-02 9.79483220e-01]\n",
      " [4.26222641e-01 5.73777359e-01]\n",
      " [9.88092719e-01 1.19072806e-02]\n",
      " [3.95308450e-01 6.04691550e-01]\n",
      " [9.91944009e-01 8.05599127e-03]\n",
      " [9.94131729e-01 5.86827095e-03]\n",
      " [3.15768422e-02 9.68423158e-01]\n",
      " [1.96207451e-03 9.98037925e-01]\n",
      " [3.99171284e-03 9.96008287e-01]\n",
      " [9.83795187e-01 1.62048129e-02]\n",
      " [9.34957272e-01 6.50427283e-02]\n",
      " [9.60031717e-04 9.99039968e-01]\n",
      " [9.91029481e-01 8.97051944e-03]\n",
      " [9.97326148e-01 2.67385163e-03]\n",
      " [9.88949761e-01 1.10502388e-02]\n",
      " [9.94131729e-01 5.86827095e-03]\n",
      " [1.88988521e-04 9.99811011e-01]\n",
      " [9.87710470e-01 1.22895297e-02]\n",
      " [9.93927466e-01 6.07253374e-03]\n",
      " [9.82432869e-01 1.75671308e-02]\n",
      " [2.49230759e-02 9.75076924e-01]\n",
      " [9.79646819e-01 2.03531813e-02]\n",
      " [9.72933956e-01 2.70660435e-02]\n",
      " [9.87170069e-01 1.28299311e-02]\n",
      " [1.71608245e-03 9.98283918e-01]\n",
      " [9.96324921e-01 3.67507917e-03]\n",
      " [9.92525946e-01 7.47405418e-03]\n",
      " [9.83690562e-01 1.63094382e-02]\n",
      " [5.17091133e-01 4.82908867e-01]\n",
      " [4.91390462e-06 9.99995086e-01]\n",
      " [9.36166437e-01 6.38335629e-02]\n",
      " [9.92525946e-01 7.47405418e-03]\n",
      " [9.82432869e-01 1.75671308e-02]\n",
      " [4.72996647e-02 9.52700335e-01]\n",
      " [9.94131729e-01 5.86827095e-03]\n",
      " [2.09857661e-03 9.97901423e-01]\n",
      " [1.81939706e-06 9.99998181e-01]\n",
      " [9.83145539e-01 1.68544609e-02]\n",
      " [9.90758344e-01 9.24165566e-03]\n",
      " [2.49284670e-03 9.97507153e-01]\n",
      " [9.75989095e-01 2.40109046e-02]\n",
      " [9.87170069e-01 1.28299311e-02]\n",
      " [1.24923307e-01 8.75076693e-01]\n",
      " [9.82432869e-01 1.75671308e-02]\n",
      " [9.87170069e-01 1.28299311e-02]\n",
      " [9.85303237e-01 1.46967629e-02]\n",
      " [9.94950680e-01 5.04931965e-03]\n",
      " [9.85184429e-01 1.48155708e-02]\n",
      " [9.94556500e-01 5.44350000e-03]\n",
      " [9.94950680e-01 5.04931965e-03]\n",
      " [6.55952876e-03 9.93440471e-01]\n",
      " [9.95113228e-01 4.88677200e-03]\n",
      " [1.18073191e-02 9.88192681e-01]\n",
      " [2.95721846e-04 9.99704278e-01]\n",
      " [9.76141927e-01 2.38580726e-02]\n",
      " [9.76228664e-01 2.37713361e-02]\n",
      " [9.40126739e-01 5.98732605e-02]\n",
      " [2.85467642e-03 9.97145324e-01]\n",
      " [9.97326148e-01 2.67385163e-03]\n",
      " [9.93570451e-01 6.42954865e-03]\n",
      " [3.65908055e-03 9.96340919e-01]\n",
      " [9.96042079e-01 3.95792131e-03]\n",
      " [9.96200478e-01 3.79952239e-03]\n",
      " [5.96840880e-02 9.40315912e-01]\n",
      " [4.28329911e-02 9.57167009e-01]\n",
      " [9.70301406e-01 2.96985937e-02]\n",
      " [9.94556500e-01 5.44350000e-03]\n",
      " [3.59616269e-02 9.64038373e-01]\n",
      " [9.94556500e-01 5.44350000e-03]\n",
      " [9.65076015e-01 3.49239854e-02]\n",
      " [1.97891110e-02 9.80210889e-01]\n",
      " [1.08487409e-03 9.98915126e-01]\n",
      " [9.69926805e-01 3.00731947e-02]\n",
      " [9.91944009e-01 8.05599127e-03]\n",
      " [9.81532186e-01 1.84678139e-02]\n",
      " [9.84821127e-01 1.51788732e-02]\n",
      " [5.35897579e-04 9.99464102e-01]\n",
      " [9.95197244e-01 4.80275581e-03]\n",
      " [1.46317383e-03 9.98536826e-01]\n",
      " [1.26316286e-01 8.73683714e-01]\n",
      " [9.75989095e-01 2.40109046e-02]\n",
      " [2.54021532e-03 9.97459785e-01]\n",
      " [9.91676926e-01 8.32307428e-03]\n",
      " [1.08558757e-02 9.89144124e-01]\n",
      " [9.83690562e-01 1.63094382e-02]\n",
      " [9.88092719e-01 1.19072806e-02]\n",
      " [9.11265148e-01 8.87348523e-02]\n",
      " [9.94131729e-01 5.86827095e-03]\n",
      " [7.54389374e-04 9.99245611e-01]\n",
      " [9.26843112e-01 7.31568883e-02]\n",
      " [1.15017989e-03 9.98849820e-01]\n",
      " [9.76331506e-01 2.36684938e-02]\n",
      " [9.94320490e-01 5.67951012e-03]\n",
      " [9.97412424e-01 2.58757615e-03]\n",
      " [9.92525946e-01 7.47405418e-03]\n",
      " [9.96324921e-01 3.67507917e-03]\n",
      " [1.81678241e-05 9.99981832e-01]\n",
      " [9.70433425e-01 2.95665747e-02]\n",
      " [9.97326148e-01 2.67385163e-03]\n",
      " [9.94556500e-01 5.44350000e-03]\n",
      " [9.94950680e-01 5.04931965e-03]\n",
      " [9.96443387e-01 3.55661291e-03]\n",
      " [9.89486260e-01 1.05137400e-02]\n",
      " [9.80827967e-01 1.91720325e-02]\n",
      " [1.44474096e-02 9.85552590e-01]\n",
      " [9.68816788e-01 3.11832121e-02]\n",
      " [2.43611622e-03 9.97563884e-01]\n",
      " [1.76764121e-01 8.23235879e-01]\n",
      " [6.91569591e-01 3.08430409e-01]\n",
      " [9.94430057e-01 5.56994306e-03]\n",
      " [1.32348756e-01 8.67651244e-01]\n",
      " [9.96037595e-01 3.96240526e-03]\n",
      " [9.91317158e-01 8.68284217e-03]\n",
      " [9.94950680e-01 5.04931965e-03]\n",
      " [9.96324921e-01 3.67507917e-03]\n",
      " [5.94740659e-05 9.99940526e-01]\n",
      " [9.97326148e-01 2.67385163e-03]\n",
      " [9.94764783e-01 5.23521717e-03]\n",
      " [9.88092719e-01 1.19072806e-02]\n",
      " [9.81680905e-01 1.83190951e-02]\n",
      " [9.54070802e-01 4.59291980e-02]\n",
      " [9.23763450e-02 9.07623655e-01]\n",
      " [9.94950680e-01 5.04931965e-03]\n",
      " [2.33132329e-05 9.99976687e-01]\n",
      " [9.82448401e-01 1.75515988e-02]\n",
      " [1.42282198e-02 9.85771780e-01]\n",
      " [9.96324921e-01 3.67507917e-03]\n",
      " [9.91317158e-01 8.68284217e-03]\n",
      " [1.66165153e-04 9.99833835e-01]\n",
      " [9.94131729e-01 5.86827095e-03]\n",
      " [2.73714012e-03 9.97262860e-01]\n",
      " [9.78349032e-01 2.16509682e-02]\n",
      " [6.35429764e-03 9.93645702e-01]\n",
      " [1.05119711e-01 8.94880289e-01]\n",
      " [9.93725726e-01 6.27427444e-03]\n",
      " [2.67018178e-01 7.32981822e-01]\n",
      " [9.83690562e-01 1.63094382e-02]\n",
      " [9.78330386e-01 2.16696135e-02]\n",
      " [9.92202589e-01 7.79741143e-03]]\n",
      "--------------------------------------------------\n",
      "召回率：               precision    recall  f1-score   support\n",
      "\n",
      "          良性       0.97      1.00      0.99       111\n",
      "          恶性       1.00      0.95      0.97        60\n",
      "\n",
      "    accuracy                           0.98       171\n",
      "   macro avg       0.99      0.97      0.98       171\n",
      "weighted avg       0.98      0.98      0.98       171\n",
      "\n",
      "--------------------------------------------------\n",
      "AUC指标： 0.975\n",
      "--------------------------------------------------\n"
     ]
    }
   ],
   "source": [
    "from sklearn.linear_model import LogisticRegression\n",
    "import time\n",
    "from sklearn.metrics import classification_report, roc_auc_score\n",
    "\n",
    "\n",
    "\n",
    "#\n",
    "# # 逻辑回归预测\n",
    "# C正则化力度\n",
    "# solver = 'liblinear'  solver是学习率优化算法，就是学习率会随着epoch的变化而变化\n",
    "#solver 分别等于 'liblinear'  'lbfgs'  'newton-cg'  'sag'  'saga'，\n",
    "#epoch就代表第几次迭代\n",
    "#max_iter 最大迭代次数\n",
    "\n",
    "# lg = LogisticRegression(C=0.5, solver='lbfgs')#0.9824561403508771\n",
    "# lg = LogisticRegression(C=0.5, solver='liblinear')#0.9883040935672515\n",
    "# lg = LogisticRegression(C=0.5, solver='newton-cg')#0.9824561403508771\n",
    "# lg = LogisticRegression(C=0.5, solver='sag')#0.9824561403508771\n",
    "lg = LogisticRegression(C=0.5, solver='saga')# 0.9824561403508771\n",
    "\n",
    "start= time.time()\n",
    "lg.fit(x_train, y_train)\n",
    "end= time.time()\n",
    "print(\"逻辑回归的训练时间：\", end-start)\n",
    "# 逻辑回归的权重参数，了解，没那么重要\n",
    "print('-'*50)\n",
    "print(lg.coef_)\n",
    "print('-'*50)\n",
    "y_predict = lg.predict(x_test)\n",
    "print(y_predict)\n",
    "print('-'*50)\n",
    "print(\"准确率：\", lg.score(x_test, y_test))\n",
    "print('-'*50)\n",
    "print(y_test[0:5])\n",
    "print('-'*50)\n",
    "print(lg.predict_proba(x_test))  #得出对应分类的概率\n",
    "print('-'*50)\n",
    "# 为什么还要看下召回率，labels和target_names对应\n",
    "# macro avg 平均值  weighted avg 加权平均值\n",
    "print(\"召回率：\", classification_report(y_test, y_predict, labels=[2, 4], target_names=[\"良性\", \"恶性\"]))\n",
    "print('-'*50)\n",
    "#AUC计算要求是二分类，不需要是0和1\n",
    "print(\"AUC指标：\", roc_auc_score(y_test, y_predict))\n",
    "print('-'*50)\n",
    "\n"
   ],
   "metadata": {
    "collapsed": false,
    "pycharm": {
     "name": "#%%\n"
    }
   }
  }
 ],
 "metadata": {
  "kernelspec": {
   "display_name": "Python 3",
   "language": "python",
   "name": "python3"
  },
  "language_info": {
   "codemirror_mode": {
    "name": "ipython",
    "version": 2
   },
   "file_extension": ".py",
   "mimetype": "text/x-python",
   "name": "python",
   "nbconvert_exporter": "python",
   "pygments_lexer": "ipython2",
   "version": "2.7.6"
  }
 },
 "nbformat": 4,
 "nbformat_minor": 0
}