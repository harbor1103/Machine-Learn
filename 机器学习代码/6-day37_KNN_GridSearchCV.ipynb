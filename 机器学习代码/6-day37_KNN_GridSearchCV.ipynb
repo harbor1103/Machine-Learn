{
 "cells": [
  {
   "cell_type": "code",
   "execution_count": null,
   "metadata": {
    "collapsed": true
   },
   "outputs": [],
   "source": []
  },
  {
   "cell_type": "code",
   "execution_count": 1,
   "outputs": [],
   "source": [
    "import numpy as np\n",
    "import pandas as pd"
   ],
   "metadata": {
    "collapsed": false,
    "pycharm": {
     "name": "#%%\n"
    }
   }
  },
  {
   "cell_type": "markdown",
   "source": [
    "# 2 分类估计器"
   ],
   "metadata": {
    "collapsed": false
   }
  },
  {
   "cell_type": "code",
   "execution_count": 2,
   "outputs": [
    {
     "data": {
      "text/plain": "5.0"
     },
     "execution_count": 2,
     "metadata": {},
     "output_type": "execute_result"
    }
   ],
   "source": [
    "np.sqrt(3*3+4*4) #欧式距离\n",
    "#欧式距离的定义是 两个向量之间的距离，就是两个向量的差的平方和的开方"
   ],
   "metadata": {
    "collapsed": false,
    "pycharm": {
     "name": "#%%\n"
    }
   }
  },
  {
   "cell_type": "code",
   "execution_count": 3,
   "outputs": [
    {
     "name": "stdout",
     "output_type": "stream",
     "text": [
      "   row_id       x       y  accuracy    time    place_id\n",
      "0       0  0.7941  9.0809        54  470702  8523065625\n",
      "1       1  5.9567  4.7968        13  186555  1757726713\n",
      "2       2  8.3078  7.0407        74  322648  1137537235\n",
      "3       3  7.3665  2.5165        65  704587  6567393236\n",
      "4       4  4.0961  1.1307        31  472130  7440663949\n",
      "5       5  3.8099  1.9586        75  178065  6289802927\n",
      "6       6  6.3336  4.3720        13  666829  9931249544\n",
      "7       7  5.7409  6.7697        85  369002  5662813655\n",
      "8       8  4.3114  6.9410         3  166384  8471780938\n",
      "9       9  6.3414  0.0758        65  400060  1253803156\n",
      "--------------------------------------------------\n",
      "(29118021, 6)\n",
      "--------------------------------------------------\n",
      "             row_id             x             y      accuracy          time  \\\n",
      "count  2.911802e+07  2.911802e+07  2.911802e+07  2.911802e+07  2.911802e+07   \n",
      "mean   1.455901e+07  4.999770e+00  5.001814e+00  8.284912e+01  4.170104e+05   \n",
      "std    8.405649e+06  2.857601e+00  2.887505e+00  1.147518e+02  2.311761e+05   \n",
      "min    0.000000e+00  0.000000e+00  0.000000e+00  1.000000e+00  1.000000e+00   \n",
      "25%    7.279505e+06  2.534700e+00  2.496700e+00  2.700000e+01  2.030570e+05   \n",
      "50%    1.455901e+07  5.009100e+00  4.988300e+00  6.200000e+01  4.339220e+05   \n",
      "75%    2.183852e+07  7.461400e+00  7.510300e+00  7.500000e+01  6.204910e+05   \n",
      "max    2.911802e+07  1.000000e+01  1.000000e+01  1.033000e+03  7.862390e+05   \n",
      "\n",
      "           place_id  \n",
      "count  2.911802e+07  \n",
      "mean   5.493787e+09  \n",
      "std    2.611088e+09  \n",
      "min    1.000016e+09  \n",
      "25%    3.222911e+09  \n",
      "50%    5.518573e+09  \n",
      "75%    7.764307e+09  \n",
      "max    9.999932e+09  \n",
      "--------------------------------------------------\n",
      "--------------------------------------------------\n"
     ]
    }
   ],
   "source": [
    "# K近邻\n",
    "\"\"\"\n",
    "K-近邻预测用户签到位置\n",
    ":return:None\n",
    "\"\"\"\n",
    "# 读取数据\n",
    "data = pd.read_csv(\"../machine_learn/data/FBlocation/train.csv\")\n",
    "print(data.head(10))\n",
    "print('-' * 50)\n",
    "print(data.shape)#(29118021, 6)\n",
    "print('-' * 50)\n",
    "print(data.describe())\n",
    "print('-' * 50)\n",
    "# print(data.feature_names)\n",
    "print('-' * 50)\n",
    "# print(data.DESCR)"
   ],
   "metadata": {
    "collapsed": false,
    "pycharm": {
     "name": "#%%\n"
    }
   }
  },
  {
   "cell_type": "code",
   "execution_count": 4,
   "outputs": [
    {
     "name": "stdout",
     "output_type": "stream",
     "text": [
      "before\n",
      "(29118021, 6)\n",
      "--------------------------------------------------\n",
      "after\n",
      "(17710, 6)\n",
      "--------------------------------------------------\n"
     ]
    }
   ],
   "source": [
    "# 处理数据\n",
    "# 1、缩小数据,查询数据,为了减少计算时间\n",
    "print('before')\n",
    "print(data.shape)\n",
    "print('-' * 50)\n",
    "data = data.query(\"x > 1.0 &  x < 1.25 & y > 2.5 & y < 2.75\")\n",
    "print('after')\n",
    "print(data.shape)\n",
    "print('-' * 50)"
   ],
   "metadata": {
    "collapsed": false,
    "pycharm": {
     "name": "#%%\n"
    }
   }
  },
  {
   "cell_type": "code",
   "execution_count": 5,
   "outputs": [
    {
     "name": "stdout",
     "output_type": "stream",
     "text": [
      "600        1970-01-01 18:09:40\n",
      "957        1970-01-10 02:11:10\n",
      "4345       1970-01-05 15:08:02\n",
      "4735       1970-01-06 23:03:03\n",
      "5580       1970-01-09 11:26:50\n",
      "                   ...        \n",
      "29100203   1970-01-01 10:33:56\n",
      "29108443   1970-01-07 23:22:04\n",
      "29109993   1970-01-08 15:03:14\n",
      "29111539   1970-01-04 00:53:41\n",
      "29112154   1970-01-08 23:01:07\n",
      "Name: time, Length: 17710, dtype: datetime64[ns]\n",
      "--------------------------------------------------\n",
      "DatetimeIndex(['1970-01-01 18:09:40', '1970-01-10 02:11:10',\n",
      "               '1970-01-05 15:08:02', '1970-01-06 23:03:03',\n",
      "               '1970-01-09 11:26:50', '1970-01-02 16:25:07',\n",
      "               '1970-01-04 15:52:57', '1970-01-01 10:13:36',\n",
      "               '1970-01-09 15:26:06', '1970-01-08 23:52:02',\n",
      "               ...\n",
      "               '1970-01-07 10:03:36', '1970-01-09 11:44:34',\n",
      "               '1970-01-04 08:07:44', '1970-01-04 15:47:47',\n",
      "               '1970-01-08 01:24:11', '1970-01-01 10:33:56',\n",
      "               '1970-01-07 23:22:04', '1970-01-08 15:03:14',\n",
      "               '1970-01-04 00:53:41', '1970-01-08 23:01:07'],\n",
      "              dtype='datetime64[ns]', name='time', length=17710, freq=None)\n",
      "--------------------------------------------------\n"
     ]
    }
   ],
   "source": [
    "#2. 处理时间的数据\n",
    "# 原time--->pd中的时间格式--->字典格式\n",
    "# 处理原data中的time，变为pd中的时间格式\n",
    "time_value = pd.to_datetime(data['time'], unit='s')\n",
    "print(time_value)\n",
    "print('-' * 50)\n",
    "# 把日期格式转换成 字典格式，把年，月，日，时，分，秒转换为字典格式，\n",
    "time_value = pd.DatetimeIndex(time_value)\n",
    "print(time_value)\n",
    "print('-' * 50)"
   ],
   "metadata": {
    "collapsed": false,
    "pycharm": {
     "name": "#%%\n"
    }
   }
  },
  {
   "cell_type": "code",
   "execution_count": 6,
   "outputs": [
    {
     "name": "stdout",
     "output_type": "stream",
     "text": [
      "<class 'pandas.core.frame.DataFrame'>\n",
      "--------------------------------------------------\n",
      "--------------------------------------------------\n",
      "before\n",
      "            row_id       x       y  accuracy    time    place_id  day  hour  \\\n",
      "600            600  1.2214  2.7023        17   65380  6683426742    1    18   \n",
      "957            957  1.1832  2.6891        58  785470  6683426742   10     2   \n",
      "4345          4345  1.1935  2.6550        11  400082  6889790653    5    15   \n",
      "4735          4735  1.1452  2.6074        49  514983  6822359752    6    23   \n",
      "5580          5580  1.0089  2.7287        19  732410  1527921905    9    11   \n",
      "...            ...     ...     ...       ...     ...         ...  ...   ...   \n",
      "29100203  29100203  1.0129  2.6775        12   38036  3312463746    1    10   \n",
      "29108443  29108443  1.1474  2.6840        36  602524  3533177779    7    23   \n",
      "29109993  29109993  1.0240  2.7238        62  658994  6424972551    8    15   \n",
      "29111539  29111539  1.2032  2.6796        87  262421  3533177779    4     0   \n",
      "29112154  29112154  1.1070  2.5419       178  687667  4932578245    8    23   \n",
      "\n",
      "          weekday  \n",
      "600             3  \n",
      "957             5  \n",
      "4345            0  \n",
      "4735            1  \n",
      "5580            4  \n",
      "...           ...  \n",
      "29100203        3  \n",
      "29108443        2  \n",
      "29109993        3  \n",
      "29111539        6  \n",
      "29112154        3  \n",
      "\n",
      "[17710 rows x 9 columns]\n",
      "--------------------------------------------------\n",
      "after\n",
      "            row_id       x       y  accuracy    place_id  day  hour  weekday\n",
      "600            600  1.2214  2.7023        17  6683426742    1    18        3\n",
      "957            957  1.1832  2.6891        58  6683426742   10     2        5\n",
      "4345          4345  1.1935  2.6550        11  6889790653    5    15        0\n",
      "4735          4735  1.1452  2.6074        49  6822359752    6    23        1\n",
      "5580          5580  1.0089  2.7287        19  1527921905    9    11        4\n",
      "...            ...     ...     ...       ...         ...  ...   ...      ...\n",
      "29100203  29100203  1.0129  2.6775        12  3312463746    1    10        3\n",
      "29108443  29108443  1.1474  2.6840        36  3533177779    7    23        2\n",
      "29109993  29109993  1.0240  2.7238        62  6424972551    8    15        3\n",
      "29111539  29111539  1.2032  2.6796        87  3533177779    4     0        6\n",
      "29112154  29112154  1.1070  2.5419       178  4932578245    8    23        3\n",
      "\n",
      "[17710 rows x 8 columns]\n"
     ]
    }
   ],
   "source": [
    "#3  构造一些特征，执行的警告是因为我们的操作是复制，loc是直接放入\n",
    "print(type(data))\n",
    "print('-' * 50)\n",
    "# data['day'] = time_value.day\n",
    "# data['hour'] = time_value.hour\n",
    "# data['weekday'] = time_value.weekday\n",
    "#日期，是否是周末，小时对于个人行为的影响是较大的,所以才做下面的处理\n",
    "#data.shape[1]是代表插入到最后的意思\n",
    "data.insert(data.shape[1], 'day', time_value.day)\n",
    "data.insert(data.shape[1], 'hour', time_value.hour)\n",
    "data.insert(data.shape[1], 'weekday', time_value.weekday)\n",
    "\n",
    "print('-' * 50)\n",
    "print('before')\n",
    "#row_id  x  y  accuracy  time place_id  day  hour  weekday\n",
    "print(data)\n",
    "# 把时间戳特征删除\n",
    "data = data.drop(['time'], axis=1)#axis=1代表列\n",
    "print('-' * 50)\n",
    "print('after')\n",
    "#row_id    x   y  accuracy  place_id  day  hour  weekday\n",
    "print(data)"
   ],
   "metadata": {
    "collapsed": false,
    "pycharm": {
     "name": "#%%\n"
    }
   }
  },
  {
   "cell_type": "code",
   "execution_count": 7,
   "outputs": [
    {
     "data": {
      "text/plain": "3"
     },
     "execution_count": 7,
     "metadata": {},
     "output_type": "execute_result"
    }
   ],
   "source": [
    "#星期天，实际weekday的值是6\n",
    "per = pd.Period('2023-07-13 22:00', 'H')\n",
    "per.weekday"
   ],
   "metadata": {
    "collapsed": false,
    "pycharm": {
     "name": "#%%\n"
    }
   }
  },
  {
   "cell_type": "code",
   "execution_count": 8,
   "outputs": [
    {
     "data": {
      "text/plain": "             row_id             x             y      accuracy      place_id  \\\ncount  1.771000e+04  17710.000000  17710.000000  17710.000000  1.771000e+04   \nmean   1.450569e+07      1.122538      2.632309     82.482101  5.129895e+09   \nstd    8.353805e+06      0.077086      0.070144    113.613227  2.357399e+09   \nmin    6.000000e+02      1.000100      2.500100      1.000000  1.012024e+09   \n25%    7.327816e+06      1.049200      2.573800     25.000000  3.312464e+09   \n50%    1.443071e+07      1.123300      2.642300     62.000000  5.261906e+09   \n75%    2.163463e+07      1.190500      2.687800     75.000000  6.766325e+09   \nmax    2.911215e+07      1.249900      2.749900   1004.000000  9.980711e+09   \n\n                day          hour       weekday  \ncount  17710.000000  17710.000000  17710.000000  \nmean       5.101863     11.485545      3.092377  \nstd        2.709287      6.932195      1.680218  \nmin        1.000000      0.000000      0.000000  \n25%        3.000000      6.000000      2.000000  \n50%        5.000000     12.000000      3.000000  \n75%        7.000000     17.000000      4.000000  \nmax       10.000000     23.000000      6.000000  ",
      "text/html": "<div>\n<style scoped>\n    .dataframe tbody tr th:only-of-type {\n        vertical-align: middle;\n    }\n\n    .dataframe tbody tr th {\n        vertical-align: top;\n    }\n\n    .dataframe thead th {\n        text-align: right;\n    }\n</style>\n<table border=\"1\" class=\"dataframe\">\n  <thead>\n    <tr style=\"text-align: right;\">\n      <th></th>\n      <th>row_id</th>\n      <th>x</th>\n      <th>y</th>\n      <th>accuracy</th>\n      <th>place_id</th>\n      <th>day</th>\n      <th>hour</th>\n      <th>weekday</th>\n    </tr>\n  </thead>\n  <tbody>\n    <tr>\n      <th>count</th>\n      <td>1.771000e+04</td>\n      <td>17710.000000</td>\n      <td>17710.000000</td>\n      <td>17710.000000</td>\n      <td>1.771000e+04</td>\n      <td>17710.000000</td>\n      <td>17710.000000</td>\n      <td>17710.000000</td>\n    </tr>\n    <tr>\n      <th>mean</th>\n      <td>1.450569e+07</td>\n      <td>1.122538</td>\n      <td>2.632309</td>\n      <td>82.482101</td>\n      <td>5.129895e+09</td>\n      <td>5.101863</td>\n      <td>11.485545</td>\n      <td>3.092377</td>\n    </tr>\n    <tr>\n      <th>std</th>\n      <td>8.353805e+06</td>\n      <td>0.077086</td>\n      <td>0.070144</td>\n      <td>113.613227</td>\n      <td>2.357399e+09</td>\n      <td>2.709287</td>\n      <td>6.932195</td>\n      <td>1.680218</td>\n    </tr>\n    <tr>\n      <th>min</th>\n      <td>6.000000e+02</td>\n      <td>1.000100</td>\n      <td>2.500100</td>\n      <td>1.000000</td>\n      <td>1.012024e+09</td>\n      <td>1.000000</td>\n      <td>0.000000</td>\n      <td>0.000000</td>\n    </tr>\n    <tr>\n      <th>25%</th>\n      <td>7.327816e+06</td>\n      <td>1.049200</td>\n      <td>2.573800</td>\n      <td>25.000000</td>\n      <td>3.312464e+09</td>\n      <td>3.000000</td>\n      <td>6.000000</td>\n      <td>2.000000</td>\n    </tr>\n    <tr>\n      <th>50%</th>\n      <td>1.443071e+07</td>\n      <td>1.123300</td>\n      <td>2.642300</td>\n      <td>62.000000</td>\n      <td>5.261906e+09</td>\n      <td>5.000000</td>\n      <td>12.000000</td>\n      <td>3.000000</td>\n    </tr>\n    <tr>\n      <th>75%</th>\n      <td>2.163463e+07</td>\n      <td>1.190500</td>\n      <td>2.687800</td>\n      <td>75.000000</td>\n      <td>6.766325e+09</td>\n      <td>7.000000</td>\n      <td>17.000000</td>\n      <td>4.000000</td>\n    </tr>\n    <tr>\n      <th>max</th>\n      <td>2.911215e+07</td>\n      <td>1.249900</td>\n      <td>2.749900</td>\n      <td>1004.000000</td>\n      <td>9.980711e+09</td>\n      <td>10.000000</td>\n      <td>23.000000</td>\n      <td>6.000000</td>\n    </tr>\n  </tbody>\n</table>\n</div>"
     },
     "execution_count": 8,
     "metadata": {},
     "output_type": "execute_result"
    }
   ],
   "source": [
    "#观察数据，看下是否有异常值\n",
    "data.describe()"
   ],
   "metadata": {
    "collapsed": false,
    "pycharm": {
     "name": "#%%\n"
    }
   }
  },
  {
   "cell_type": "code",
   "execution_count": 9,
   "outputs": [
    {
     "name": "stdout",
     "output_type": "stream",
     "text": [
      "            row_id     x     y  accuracy   day  hour  weekday\n",
      "place_id                                                     \n",
      "1012023972       1     1     1         1     1     1        1\n",
      "1057182134       1     1     1         1     1     1        1\n",
      "1059958036       3     3     3         3     3     3        3\n",
      "1085266789       1     1     1         1     1     1        1\n",
      "1097200869    1044  1044  1044      1044  1044  1044     1044\n",
      "...            ...   ...   ...       ...   ...   ...      ...\n",
      "9904182060       1     1     1         1     1     1        1\n",
      "9915093501       1     1     1         1     1     1        1\n",
      "9946198589       1     1     1         1     1     1        1\n",
      "9950190890       1     1     1         1     1     1        1\n",
      "9980711012       5     5     5         5     5     5        5\n",
      "\n",
      "[805 rows x 7 columns]\n",
      "--------------------------------------------------\n",
      "       place_id  row_id     x     y  accuracy   day  hour  weekday\n",
      "0    1097200869    1044  1044  1044      1044  1044  1044     1044\n",
      "1    1228935308     120   120   120       120   120   120      120\n",
      "2    1267801529      58    58    58        58    58    58       58\n",
      "3    1278040507      15    15    15        15    15    15       15\n",
      "4    1285051622      21    21    21        21    21    21       21\n",
      "..          ...     ...   ...   ...       ...   ...   ...      ...\n",
      "234  9741307878       5     5     5         5     5     5        5\n",
      "235  9753855529      21    21    21        21    21    21       21\n",
      "236  9806043737       6     6     6         6     6     6        6\n",
      "237  9809476069      23    23    23        23    23    23       23\n",
      "238  9980711012       5     5     5         5     5     5        5\n",
      "\n",
      "[239 rows x 8 columns]\n",
      "--------------------------------------------------\n"
     ]
    }
   ],
   "source": [
    "# # 为什么，把签到数量少于n个目标位置删除，place_id是标签，即目标值\n",
    "#？？？？？？？？？？？没看懂这行代码的意义\n",
    "# 答案\n",
    "# 这段代码的目的是对数据集中的place_id进行分组，\n",
    "# 并统计每个place_id出现的次数。让我为您解释一下这么做的原因和意义。\n",
    "#\n",
    "# 在这段代码中，data代表数据集，place_id是数据中的一个属性，表示地点或位置的唯一标识符。\n",
    "# 通过对place_id进行分组，然后计算每个分组中的样本数量，可以获得每个地点被记录的次数。\n",
    "# 这在某些情况下可能具有重要的分析意义，下面是一些可能的原因和意义：\n",
    "#\n",
    "# 地点热度分析： 通过统计每个地点的出现次数，您可以了解哪些地点在数据集中出现得更频繁，从而推断出这些地点可能是热门的或受欢迎的地点。\n",
    "# 这对于了解用户的兴趣、行为和偏好可能非常有用。\n",
    "#\n",
    "# 异常检测： 统计地点的出现次数还可以帮助识别可能的异常或离群点。\n",
    "# 如果某个地点的出现次数远远高于其他地点，那么可能存在一些异常情况，需要进一步调查。\n",
    "#\n",
    "# 数据质量分析： 统计每个地点的出现次数可以帮助您了解数据集的分布情况。\n",
    "# 如果某些地点的出现次数极少，可能表示数据集中的这些地点信息缺失或不准确。\n",
    "#\n",
    "# 推荐系统： 对地点的出现次数进行分析还可以用于构建推荐系统。\n",
    "# 根据用户的历史访问地点以及地点的热度，可以为用户推荐可能感兴趣的地点。\n",
    "#\n",
    "# 总之，对place_id进行分组并统计出现次数可以提供关于地点在数据集中的分布、热度和重要性等信息，这些信息可以在分析、预测和应用开发中发挥重要作用。\n",
    "\n",
    "place_count = data.groupby('place_id').count() #对place_id进行分组，然后统计每个place_id的个数\n",
    "print(place_count)\n",
    "print('-' * 50)\n",
    "place_count['x'].describe()# 对x进行统计 count是个数，mean是平均值，std是标准差，min是最小值，max是最大值\n",
    "# # 把index变为0,1,2，3,4,5,6这种效果，从零开始排，原来的index是row_id\n",
    "#只选择去的人大于3的数据，认为1,2,3的是噪音，这个地方去的人很少，不用推荐给其他人\n",
    "tf = place_count[place_count.row_id > 3].reset_index()\n",
    "print(tf)  #剩余的签到地点 805-239=566个地点, 566个地点是噪音被删除了\n",
    "print('-' * 50)"
   ],
   "metadata": {
    "collapsed": false,
    "pycharm": {
     "name": "#%%\n"
    }
   }
  },
  {
   "cell_type": "code",
   "execution_count": 10,
   "outputs": [
    {
     "data": {
      "text/plain": "(16918, 8)"
     },
     "execution_count": 10,
     "metadata": {},
     "output_type": "execute_result"
    }
   ],
   "source": [
    "# 根据设定的地点目标值，对原本的样本进行过滤\n",
    "#isin可以过滤某一列要在一组值\n",
    "data = data[data['place_id'].isin(tf.place_id)]\n",
    "data.shape"
   ],
   "metadata": {
    "collapsed": false,
    "pycharm": {
     "name": "#%%\n"
    }
   }
  },
  {
   "cell_type": "code",
   "execution_count": 11,
   "outputs": [
    {
     "name": "stdout",
     "output_type": "stream",
     "text": [
      "(16918, 6)\n",
      "Index(['x', 'y', 'accuracy', 'day', 'hour', 'weekday'], dtype='object')\n"
     ]
    }
   ],
   "source": [
    "#  取出数据当中的特征值和目标值\n",
    "y = data['place_id'] #目标值\n",
    "# 删除目标值，保留特征值，\n",
    "x = data.drop(['place_id'], axis=1)\n",
    "# 删除无用的特征值\n",
    "x = x.drop(['row_id'], axis=1)\n",
    "print(x.shape)\n",
    "print(x.columns)\n",
    "\n",
    "#代码解释：\n",
    "# 这段代码的目的是将数据集中的特征值和目标值分开，然后对特征值进行预处理。\n",
    "#\n",
    "# 让我解释一下每一步的具体目的和用途：\n",
    "#\n",
    "# y = data['place_id']：这一步将目标值提取出来，place_id列中的值将被存储在变量y中。\n",
    "# 目标值通常是我们希望预测或分类的内容。\n",
    "#\n",
    "# x = data.drop(['place_id'], axis=1)：\n",
    "# 这一步删除了数据集中的place_id列，即将目标值从特征值中分离出来，得到一个新的DataFrame x，\n",
    "# 其中包含所有其他特征。\n",
    "#\n",
    "# x = x.drop(['row_id'], axis=1)：这一步删除了row_id列，\n",
    "# 如果row_id列不包含有关目标值的信息，那么它可以被视为无用的特征，因此被删除。\n",
    "#\n",
    "# print(x.shape)：打印输出特征值数据的形状，即数据集中的样本数量和特征数量。\n",
    "#\n",
    "# print(x.columns)：打印输出特征值数据的列名，即所有特征的名称。\n",
    "#\n",
    "# 综上所述，这段代码通过将目标值和无关特征从数据集中分离出来，\n",
    "# 得到一个只包含有效特征的数据集。这是在进行数据预处理和特征工程时的常见步骤。\n",
    "# 分离出目标值和无关特征可以使特征处理更加简洁和准确，从而有助于构建和训练机器学习模型。"
   ],
   "metadata": {
    "collapsed": false,
    "pycharm": {
     "name": "#%%\n"
    }
   }
  },
  {
   "cell_type": "code",
   "execution_count": 12,
   "outputs": [],
   "source": [
    "# 数据的分割，特征工程结束了，开始机器训练，构建模型\n",
    "#//////////////////////////////////////////////\n",
    "#//////////////////////////////////////////////\n",
    "#//////////////////////////////////////////////\n",
    "#//////////////////////////////////////////////"
   ],
   "metadata": {
    "collapsed": false,
    "pycharm": {
     "name": "#%%\n"
    }
   }
  },
  {
   "cell_type": "code",
   "execution_count": 15,
   "outputs": [],
   "source": [
    "from sklearn.model_selection import train_test_split # 数据的分割\n",
    "from sklearn.preprocessing import StandardScaler # 数据的标准化\n",
    "from sklearn.neighbors import KNeighborsClassifier"
   ],
   "metadata": {
    "collapsed": false,
    "pycharm": {
     "name": "#%%\n"
    }
   }
  },
  {
   "cell_type": "code",
   "execution_count": 16,
   "outputs": [
    {
     "name": "stdout",
     "output_type": "stream",
     "text": [
      "[ 1.12295735  2.63237278 81.34938525  5.10064628 11.44293821  3.10135561]\n",
      "[5.98489138e-03 4.86857391e-03 1.19597480e+04 7.32837915e+00\n",
      " 4.83742660e+01 2.81838404e+00]\n",
      "--------------------------------------------------\n",
      "[ 1.12295735  2.63237278 81.34938525  5.10064628 11.44293821  3.10135561]\n",
      "[5.98489138e-03 4.86857391e-03 1.19597480e+04 7.32837915e+00\n",
      " 4.83742660e+01 2.81838404e+00]\n",
      "预测的目标签到位置为： [5689129232 1097200869 2355236719 ... 4932578245 6424972551 5095999304]\n",
      "预测的准确率: 0.484160756501182\n"
     ]
    }
   ],
   "source": [
    "# 进行数据的分割训练集合测试集\n",
    "x_train, x_test, y_train, y_test = train_test_split(x, y, test_size=0.25, random_state=1)\n",
    "\n",
    "# 特征工程（标准化）,下面3行注释，一开始我们不进行标准化，看下效果，目标值要不要标准化？\n",
    "std = StandardScaler()\n",
    "# #\n",
    "# # # 对测试集和训练集的特征值进行标准化,服务于knn fit\n",
    "x_train = std.fit_transform(x_train)\n",
    "# # transform返回的是copy，不在原有的输入对象中去修改\n",
    "# print(id(x_test))\n",
    "print(std.mean_)\n",
    "print(std.var_)\n",
    "x_test = std.transform(x_test)  #transfrom不再进行均值和方差的计算，是在原有的基础上去标准化\n",
    "print('-' * 50)\n",
    "# print(id(x_test))\n",
    "print(std.mean_)\n",
    "print(std.var_)\n",
    "\n",
    "# # 进行算法流程 # 超参数，可以通过设置n_neighbors=5，来调整结果好坏\n",
    "knn = KNeighborsClassifier(n_neighbors=6)\n",
    "\n",
    "# # fit， predict,score，训练\n",
    "knn.fit(x_train, y_train)\n",
    "# # #\n",
    "# # # 得出预测结果\n",
    "y_predict = knn.predict(x_test)\n",
    "# #\n",
    "print(\"预测的目标签到位置为：\", y_predict)\n",
    "# # #\n",
    "# # # # 得出准确率\n",
    "print(\"预测的准确率:\", knn.score(x_test, y_test))"
   ],
   "metadata": {
    "collapsed": false,
    "pycharm": {
     "name": "#%%\n"
    }
   }
  },
  {
   "cell_type": "code",
   "execution_count": 17,
   "outputs": [
    {
     "name": "stdout",
     "output_type": "stream",
     "text": [
      "1970-01-10 02:23:38\n"
     ]
    }
   ],
   "source": [
    "print(max(time_value))"
   ],
   "metadata": {
    "collapsed": false,
    "pycharm": {
     "name": "#%%\n"
    }
   }
  },
  {
   "cell_type": "code",
   "execution_count": 1,
   "outputs": [],
   "source": [
    "from sklearn.model_selection import GridSearchCV"
   ],
   "metadata": {
    "collapsed": false,
    "pycharm": {
     "name": "#%%\n"
    }
   }
  },
  {
   "cell_type": "code",
   "execution_count": 2,
   "outputs": [],
   "source": [
    "#网格搜索时讲解\n",
    "# # 构造一些参数的值进行搜索\n",
    "# dict---<string,list(int)/list(string)>\n",
    "param = {\"n_neighbors\": [3, 5, 10, 12, 15],'weights':['uniform', 'distance']}\n",
    "# print(type(param))\n",
    "# print(type(param[\"n_neighbors\"]))"
   ],
   "metadata": {
    "collapsed": false,
    "pycharm": {
     "name": "#%%\n"
    }
   }
  },
  {
   "cell_type": "code",
   "execution_count": 3,
   "outputs": [
    {
     "ename": "NameError",
     "evalue": "name 'knn' is not defined",
     "output_type": "error",
     "traceback": [
      "\u001B[1;31m---------------------------------------------------------------------------\u001B[0m",
      "\u001B[1;31mNameError\u001B[0m                                 Traceback (most recent call last)",
      "Cell \u001B[1;32mIn[3], line 2\u001B[0m\n\u001B[0;32m      1\u001B[0m \u001B[38;5;66;03m# 进行网格搜索，cv=3是3折交叉验证，用其中2折训练，1折验证\u001B[39;00m\n\u001B[1;32m----> 2\u001B[0m gc \u001B[38;5;241m=\u001B[39m GridSearchCV(\u001B[43mknn\u001B[49m, param_grid\u001B[38;5;241m=\u001B[39mparam, cv\u001B[38;5;241m=\u001B[39m\u001B[38;5;241m3\u001B[39m)\n\u001B[0;32m      4\u001B[0m gc\u001B[38;5;241m.\u001B[39mfit(x_train, y_train)  \u001B[38;5;66;03m#你给它的x_train，它又分为训练集，验证集\u001B[39;00m\n\u001B[0;32m      6\u001B[0m \u001B[38;5;66;03m# 预测准确率，为了给大家看看\u001B[39;00m\n",
      "\u001B[1;31mNameError\u001B[0m: name 'knn' is not defined"
     ]
    }
   ],
   "source": [
    "# 进行网格搜索，cv=3是3折交叉验证，用其中2折训练，1折验证\n",
    "gc = GridSearchCV(knn, param_grid=param, cv=3)\n",
    "\n",
    "gc.fit(x_train, y_train)  #你给它的x_train，它又分为训练集，验证集\n",
    "\n",
    "# 预测准确率，为了给大家看看\n",
    "print(\"在测试集上准确率：\", gc.score(x_test, y_test))\n",
    "\n",
    "print(\"在交叉验证当中最好的结果：\", gc.best_score_)\n",
    "\n",
    "print(\"选择最好的模型是：\", gc.best_estimator_)\n",
    "\n",
    "print(\"每个超参数每次交叉验证的结果：\", gc.cv_results_)\n",
    "gc.cv_results_"
   ],
   "metadata": {
    "collapsed": false,
    "pycharm": {
     "name": "#%%\n"
    }
   }
  }
 ],
 "metadata": {
  "kernelspec": {
   "display_name": "Python 3",
   "language": "python",
   "name": "python3"
  },
  "language_info": {
   "codemirror_mode": {
    "name": "ipython",
    "version": 2
   },
   "file_extension": ".py",
   "mimetype": "text/x-python",
   "name": "python",
   "nbconvert_exporter": "python",
   "pygments_lexer": "ipython2",
   "version": "2.7.6"
  }
 },
 "nbformat": 4,
 "nbformat_minor": 0
}