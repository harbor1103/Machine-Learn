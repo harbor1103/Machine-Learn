{
 "cells": [
  {
   "cell_type": "code",
   "execution_count": 1,
   "outputs": [
    {
     "name": "stdout",
     "output_type": "stream",
     "text": [
      "获取特征值\n",
      "(20640, 8)\n",
      "[   8.3252       41.            6.98412698    1.02380952  322.\n",
      "    2.55555556   37.88       -122.23      ]\n",
      "['MedInc', 'HouseAge', 'AveRooms', 'AveBedrms', 'Population', 'AveOccup', 'Latitude', 'Longitude']\n",
      "--------------------------------------------------\n",
      "(15480, 8)\n",
      "(15480, 1)\n",
      "(5160, 1)\n"
     ]
    }
   ],
   "source": [
    "from sklearn.datasets import fetch_california_housing\n",
    "from sklearn.model_selection import train_test_split\n",
    "from sklearn.preprocessing import StandardScaler\n",
    "# 获取数据\n",
    "lb = fetch_california_housing(data_home='../MachineData/data')\n",
    "print(\"获取特征值\")\n",
    "print(lb.data.shape)\n",
    "print(lb.data[0])\n",
    "# print(\"目标值\")\n",
    "# print(lb.target)\n",
    "# print(lb.DESCR)\n",
    "print(lb.feature_names)\n",
    "print('-' * 50)\n",
    "# 分割数据集到训练集和测试集\n",
    "x_train, x_test, y_train, y_test = train_test_split(lb.data, lb.target, test_size=0.25, random_state=1)\n",
    "#\n",
    "print(x_train.shape)\n",
    "#\n",
    "# # 进行标准化处理(?) 目标值处理？\n",
    "# # 特征值和目标值是都必须进行标准化处理, 实例化两个标准化API\n",
    "std_x = StandardScaler()\n",
    "#\n",
    "x_train = std_x.fit_transform(x_train)\n",
    "x_test = std_x.transform(x_test)\n",
    "\n",
    "# 目标值进行了标准化\n",
    "std_y = StandardScaler()\n",
    "#\n",
    "temp = y_train.reshape(-1, 1) #-1代表把剩余的元素都堆到哪一维\n",
    "\n",
    "#标签进行标准化\n",
    "# 目标值是一维的，这里需要传进去2维的\n",
    "y_train = std_y.fit_transform(y_train.reshape(-1, 1))\n",
    "print(y_train.shape)\n",
    "y_test = std_y.transform(y_test.reshape(-1, 1))\n",
    "print(y_test.shape)"
   ],
   "metadata": {
    "collapsed": false,
    "pycharm": {
     "name": "#%%\n"
    }
   }
  },
  {
   "cell_type": "code",
   "execution_count": 2,
   "outputs": [
    {
     "name": "stdout",
     "output_type": "stream",
     "text": [
      "(15480, 8)\n",
      "****************************************************************************************************\n",
      "(15480, 1)\n",
      "****************************************************************************************************\n",
      "Lasso回归的训练时间： 0.10910177230834961\n",
      "[ 0.71431792  0.10613811 -0.21758465  0.25415162 -0.00311065 -0.03403136\n",
      " -0.77399969 -0.75154125]\n",
      "****************************************************************************************************\n",
      "(5160,)\n",
      "--------------------------------------------------\n",
      "Lasso回归里面每个房子的预测价格： [[2.11992528]\n",
      " [0.94898521]\n",
      " [2.70039834]\n",
      " ...\n",
      " [1.24786704]\n",
      " [2.73499483]\n",
      " [1.74153523]]\n",
      "****************************************************************************************************\n",
      "Lasso回归的均方误差： 0.40081302952916914\n",
      "****************************************************************************************************\n",
      "Lasso回归的均方误差： 0.5356382077349954\n",
      "****************************************************************************************************\n"
     ]
    }
   ],
   "source": [
    "from sklearn.linear_model import Lasso\n",
    "from sklearn.metrics import mean_squared_error\n",
    "import time\n",
    "\n",
    "# # # Lasso回归去进行房价预测\n",
    "#alpha就是补偿的系数\n",
    "print(x_train.shape)\n",
    "print('*'*100)\n",
    "print(y_train.shape)\n",
    "print('*'*100)\n",
    "ls = Lasso(alpha=0.001)\n",
    "start= time.time()\n",
    "ls.fit(x_train, y_train)\n",
    "end= time.time()\n",
    "print(\"Lasso回归的训练时间：\", end-start)\n",
    "print(ls.coef_)\n",
    "print('*'*100)\n",
    "#\n",
    "# # 预测测试集的房子价格\n",
    "print(ls.predict(x_test).shape)\n",
    "print('-'*50)\n",
    "y_ls_predict = std_y.inverse_transform(ls.predict(x_test).reshape(-1,1))\n",
    "y_predict = ls.predict(x_test)\n",
    "print(\"Lasso回归里面每个房子的预测价格：\", y_ls_predict)\n",
    "print('*'*100)\n",
    "#\n",
    "print(\"Lasso回归的均方误差：\", mean_squared_error(y_test, y_predict))\n",
    "print('*'*100)\n",
    "print(\"Lasso回归的均方误差：\", mean_squared_error(std_y.inverse_transform(y_test), y_ls_predict))\n",
    "print('*'*100)\n"
   ],
   "metadata": {
    "collapsed": false,
    "pycharm": {
     "name": "#%%\n"
    }
   }
  }
 ],
 "metadata": {
  "kernelspec": {
   "display_name": "Python 3",
   "language": "python",
   "name": "python3"
  },
  "language_info": {
   "codemirror_mode": {
    "name": "ipython",
    "version": 2
   },
   "file_extension": ".py",
   "mimetype": "text/x-python",
   "name": "python",
   "nbconvert_exporter": "python",
   "pygments_lexer": "ipython2",
   "version": "2.7.6"
  }
 },
 "nbformat": 4,
 "nbformat_minor": 0
}