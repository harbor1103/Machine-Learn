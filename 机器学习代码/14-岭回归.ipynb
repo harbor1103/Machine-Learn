{
 "cells": [
  {
   "cell_type": "markdown",
   "source": [
    "# 1、L1和L2正则化区别，正则化力度和权重系数关系是？ 均方误差怎么算？描述一下"
   ],
   "metadata": {
    "collapsed": false
   }
  },
  {
   "cell_type": "code",
   "execution_count": null,
   "outputs": [],
   "source": [
    "# L1正则化：\n",
    "# L1正则化会使得一些权重参数变为0(随机选的)，从而实现特征选择的效果。\n",
    "# L2正则化：对系数的平方和进行惩罚\n",
    "# L2正则化会使得权重参数变得较小，但不会将它们变为0(选择高阶项)\n",
    "#\n",
    "# 2. 正则化力度和权重系数关系：\n",
    "# 正则化力度（α）是一个超参数，其值由用户设置。\n",
    "# 正则化力度越大，权重系数越趋近于0；\n",
    "# 正则化力度越小，权重系数越接近于未经正则化的值。\n",
    "# 较大的α值会导致更强的正则化效果，使得模型的权重参数趋向于更小的值或者更多地趋向于0。使模型更加偏向简单的解\n",
    "# 较小的α值会减弱正则化的影响，使得模型在训练集上可以拟合得更好，但可能会导致过拟合。\n",
    "\n",
    "\n",
    "# 3. 均方误差（Mean Square Error，MSE）的计算：\n",
    "# 均方误差是衡量预测值与真实值之间差异的常用指标\n",
    "# 它是预测值与真实值之间差异的平方和的平均值。\n",
    "# 对于一个具有n个样本的数据集，\n",
    "# 假设预测值为{y_pred_1, y_pred_2, ..., y_pred_n}，\n",
    "# 真实值为{y_true_1, y_true_2, ..., y_true_n}，则均方误差的计算公式为：\n",
    "#\n",
    "# MSE = (1/n) * Σ(y_pred_i - y_true_i)^2\n",
    "#\n",
    "# 其中，Σ表示对所有样本求和，y_pred_i是第i个样本的预测值，y_true_i是第i个样本的真实值。\n",
    "#\n",
    "# 均方误差越小，表示预测值与真实值之间的差异越小，模型的拟合效果越好。\n",
    "# 在训练过程中，通常使用均方误差作为损失函数，通过最小化均方误差来优化模型参数。"
   ],
   "metadata": {
    "collapsed": false,
    "pycharm": {
     "name": "#%%\n"
    }
   }
  },
  {
   "cell_type": "code",
   "execution_count": null,
   "outputs": [],
   "source": [
    "from sklearn.datasets import fetch_california_housing\n",
    "from sklearn.linear_model import LinearRegression, SGDRegressor, Ridge, LogisticRegression, Lasso\n",
    "from sklearn.model_selection import train_test_split\n",
    "from sklearn.preprocessing import StandardScaler\n",
    "from sklearn.metrics import mean_squared_error, classification_report, roc_auc_score\n",
    "import joblib\n",
    "import pandas as pd\n",
    "import numpy as np"
   ],
   "metadata": {
    "collapsed": false,
    "pycharm": {
     "name": "#%%\n"
    }
   }
  },
  {
   "cell_type": "markdown",
   "source": [
    "# 2、练习岭回归，lasso回归\n"
   ],
   "metadata": {
    "collapsed": false
   }
  },
  {
   "cell_type": "code",
   "execution_count": null,
   "outputs": [],
   "source": [
    "# 获取数据\n",
    "lb = fetch_california_housing(data_home='../MachineData/data')\n",
    "print(\"获取特征值\")\n",
    "print(lb.data.shape)\n",
    "print(lb.data[0])\n",
    "# print(\"目标值\")\n",
    "# print(lb.target)\n",
    "# print(lb.DESCR)\n",
    "print(lb.feature_names)\n",
    "print('-' * 50)\n",
    "# 分割数据集到训练集和测试集\n",
    "x_train, x_test, y_train, y_test = train_test_split(lb.data, lb.target, test_size=0.25, random_state=1)\n",
    "#\n",
    "print(x_train.shape)\n",
    "#\n",
    "# # 进行标准化处理(?) 目标值处理？\n",
    "# # 特征值和目标值是都必须进行标准化处理, 实例化两个标准化API\n",
    "std_x = StandardScaler()\n",
    "#\n",
    "x_train = std_x.fit_transform(x_train)\n",
    "x_test = std_x.transform(x_test)\n",
    "\n",
    "# 目标值进行了标准化\n",
    "std_y = StandardScaler()\n",
    "#\n",
    "temp = y_train.reshape(-1, 1) #-1代表把剩余的元素都堆到哪一维\n",
    "\n",
    "#标签进行标准化\n",
    "# 目标值是一维的，这里需要传进去2维的\n",
    "y_train = std_y.fit_transform(y_train.reshape(-1, 1))\n",
    "print(y_train.shape)\n",
    "y_test = std_y.transform(y_test.reshape(-1, 1))\n",
    "print(y_test.shape)"
   ],
   "metadata": {
    "collapsed": false,
    "pycharm": {
     "name": "#%%\n"
    }
   }
  },
  {
   "cell_type": "code",
   "execution_count": null,
   "outputs": [],
   "source": [
    "# 4 岭回归"
   ],
   "metadata": {
    "collapsed": false,
    "pycharm": {
     "name": "#%%\n"
    }
   }
  },
  {
   "cell_type": "code",
   "execution_count": null,
   "outputs": [],
   "source": [
    "import time\n",
    "# # # 岭回归去进行房价预测\n",
    "#岭回归是对线性回归加入L2正则化，L2正则化是对系数的平方和进行惩罚\n",
    "#alpha就是补偿的系数\n",
    "#正规方程求解，加补偿就可以让正规方程可逆\n",
    "rd = Ridge(alpha=0.001)\n",
    "start= time.time()\n",
    "rd.fit(x_train, y_train)\n",
    "end= time.time()\n",
    "print(\"岭回归的训练时间：\", end-start)\n",
    "print('*'*100)\n",
    "print(rd.coef_)#coef_是系数,也就是权重\n",
    "print('*'*100)\n",
    "# # 预测测试集的房子价格\n",
    "print(rd.predict(x_test).shape)\n",
    "print('*'*100)\n",
    "y_rd_predict = std_y.inverse_transform(rd.predict(x_test))\n",
    "y_predict = rd.predict(x_test)\n",
    "# print(\"岭回归里面每个房子的预测价格：\", y_rd_predict)\n",
    "print(\"岭回归的均方误差：\", mean_squared_error(y_test, y_predict))\n",
    "print('*'*100)\n",
    "print(\"岭回归的均方误差：\", mean_squared_error(std_y.inverse_transform(y_test), y_rd_predict))\n",
    "print('*'*100)\n",
    "\n",
    "\n",
    "\n",
    "\n",
    "\n",
    "\n"
   ],
   "metadata": {
    "collapsed": false,
    "pycharm": {
     "name": "#%%\n"
    }
   }
  }
 ],
 "metadata": {
  "kernelspec": {
   "display_name": "Python 3",
   "language": "python",
   "name": "python3"
  },
  "language_info": {
   "codemirror_mode": {
    "name": "ipython",
    "version": 2
   },
   "file_extension": ".py",
   "mimetype": "text/x-python",
   "name": "python",
   "nbconvert_exporter": "python",
   "pygments_lexer": "ipython2",
   "version": "2.7.6"
  }
 },
 "nbformat": 4,
 "nbformat_minor": 0
}