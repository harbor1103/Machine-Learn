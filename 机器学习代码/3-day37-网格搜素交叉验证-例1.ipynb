{
 "cells": [
  {
   "cell_type": "code",
   "execution_count": 1,
   "metadata": {
    "collapsed": true,
    "pycharm": {
     "name": "#%%\n"
    }
   },
   "outputs": [],
   "source": [
    "import pandas as pd\n",
    "# 读取数据\n",
    "data = pd.read_csv(\"../machine_learn/data/FBlocation/train.csv\")\n",
    "\n",
    "# 处理数据\n",
    "# 1、缩小数据,查询数据,为了减少计算时间\n",
    "data = data.query(\"x > 1.0 &  x < 1.25 & y > 2.5 & y < 2.75\")\n",
    "\n",
    "#2. 处理时间的数据\n",
    "time_value = pd.to_datetime(data['time'], unit='s')\n",
    "time_value = pd.DatetimeIndex(time_value)\n",
    "\n",
    "#3  构造一些特征，执行的警告是因为我们的操作是复制，loc是直接放入\n",
    "data.insert(data.shape[1], 'day', time_value.day)\n",
    "data.insert(data.shape[1], 'hour', time_value.hour)\n",
    "data.insert(data.shape[1], 'weekday', time_value.weekday)\n",
    "\n",
    "data = data.drop(['time'], axis=1)#axis=1代表列\n",
    "\n",
    "place_count = data.groupby('place_id').count() #对place_id进行分组，然后统计每个place_id的个数\n",
    "\n",
    "tf = place_count[place_count.row_id > 3].reset_index()\n",
    "\n",
    "data = data[data['place_id'].isin(tf.place_id)]\n",
    "\n",
    "#4、取出数据中的特征值和目标值\n",
    "y = data['place_id'] #目标值\n",
    "x = data.drop(['place_id'], axis=1)\n",
    "x = x.drop(['row_id'], axis=1)\n",
    "\n",
    "from sklearn.model_selection import train_test_split # 数据的分割\n",
    "from sklearn.preprocessing import StandardScaler # 数据的标准化\n",
    "from sklearn.neighbors import KNeighborsClassifier\n",
    "\n",
    "\n",
    "# 进行数据的分割训练集合测试集\n",
    "x_train, x_test, y_train, y_test = train_test_split(\n",
    "    x,\n",
    "    y,\n",
    "    test_size=0.25,\n",
    "    random_state=1)\n",
    "std = StandardScaler()\n",
    "x_train = std.fit_transform(x_train)\n",
    "x_test = std.transform(x_test)\n",
    "\n",
    "\n",
    "# # 进行算法流程 # 超参数，可以通过设置n_neighbors=5，来调整结果好坏\n",
    "knn = KNeighborsClassifier(n_neighbors=6)"
   ]
  },
  {
   "cell_type": "code",
   "execution_count": 2,
   "outputs": [
    {
     "name": "stderr",
     "output_type": "stream",
     "text": [
      "D:\\PY\\lib\\site-packages\\sklearn\\model_selection\\_split.py:700: UserWarning: The least populated class in y has only 1 members, which is less than n_splits=3.\n",
      "  warnings.warn(\n"
     ]
    },
    {
     "name": "stdout",
     "output_type": "stream",
     "text": [
      "在测试集上准确率： 0.49763593380614657\n",
      "在交叉验证当中最好的结果： 0.4816362349278435\n",
      "选择最好的模型是： KNeighborsClassifier(n_neighbors=12, weights='distance')\n",
      "每个超参数每次交叉验证的结果： {'mean_fit_time': array([0.01129659, 0.01262403, 0.01162553, 0.01195884, 0.0132885 ,\n",
      "       0.01183216, 0.01162664, 0.01162807, 0.01262673, 0.01162672]), 'std_fit_time': array([4.66256546e-04, 4.70527427e-04, 4.69186078e-04, 2.24502037e-06,\n",
      "       1.87907510e-03, 6.64593584e-04, 4.71314248e-04, 4.70302724e-04,\n",
      "       4.72100989e-04, 4.68675543e-04]), 'mean_score_time': array([0.15203301, 0.05348659, 0.1530052 , 0.06611196, 0.17150768,\n",
      "       0.08837128, 0.17142924, 0.09686573, 0.18228316, 0.11616802]), 'std_score_time': array([0.00639963, 0.00204684, 0.0018937 , 0.00093982, 0.00129869,\n",
      "       0.00235095, 0.00215281, 0.00288094, 0.00441415, 0.00557425]), 'param_n_neighbors': masked_array(data=[3, 3, 5, 5, 10, 10, 12, 12, 15, 15],\n",
      "             mask=[False, False, False, False, False, False, False, False,\n",
      "                   False, False],\n",
      "       fill_value='?',\n",
      "            dtype=object), 'param_weights': masked_array(data=['uniform', 'distance', 'uniform', 'distance',\n",
      "                   'uniform', 'distance', 'uniform', 'distance',\n",
      "                   'uniform', 'distance'],\n",
      "             mask=[False, False, False, False, False, False, False, False,\n",
      "                   False, False],\n",
      "       fill_value='?',\n",
      "            dtype=object), 'params': [{'n_neighbors': 3, 'weights': 'uniform'}, {'n_neighbors': 3, 'weights': 'distance'}, {'n_neighbors': 5, 'weights': 'uniform'}, {'n_neighbors': 5, 'weights': 'distance'}, {'n_neighbors': 10, 'weights': 'uniform'}, {'n_neighbors': 10, 'weights': 'distance'}, {'n_neighbors': 12, 'weights': 'uniform'}, {'n_neighbors': 12, 'weights': 'distance'}, {'n_neighbors': 15, 'weights': 'uniform'}, {'n_neighbors': 15, 'weights': 'distance'}], 'split0_test_score': array([0.44468085, 0.4534279 , 0.4607565 , 0.47399527, 0.46170213,\n",
      "       0.48014184, 0.45650118, 0.48108747, 0.45508274, 0.47895981]), 'split1_test_score': array([0.43390873, 0.4542445 , 0.45660913, 0.47528967, 0.45542681,\n",
      "       0.48238354, 0.45329865, 0.48049184, 0.44809648, 0.47623552]), 'split2_test_score': array([0.43982029, 0.4561362 , 0.45684559, 0.47221565, 0.4618113 ,\n",
      "       0.48191062, 0.45897375, 0.48332939, 0.46062899, 0.48049184]), 'mean_test_score': array([0.43946996, 0.45460287, 0.45807041, 0.47383353, 0.45964675,\n",
      "       0.48147867, 0.45625786, 0.48163623, 0.45460274, 0.47856239]), 'std_test_score': array([0.00440467, 0.00113433, 0.00190181, 0.00126016, 0.00298428,\n",
      "       0.00096479, 0.00232323, 0.00122169, 0.00512762, 0.00176021]), 'rank_test_score': array([10,  8,  6,  4,  5,  2,  7,  1,  9,  3])}\n"
     ]
    },
    {
     "data": {
      "text/plain": "{'mean_fit_time': array([0.01129659, 0.01262403, 0.01162553, 0.01195884, 0.0132885 ,\n        0.01183216, 0.01162664, 0.01162807, 0.01262673, 0.01162672]),\n 'std_fit_time': array([4.66256546e-04, 4.70527427e-04, 4.69186078e-04, 2.24502037e-06,\n        1.87907510e-03, 6.64593584e-04, 4.71314248e-04, 4.70302724e-04,\n        4.72100989e-04, 4.68675543e-04]),\n 'mean_score_time': array([0.15203301, 0.05348659, 0.1530052 , 0.06611196, 0.17150768,\n        0.08837128, 0.17142924, 0.09686573, 0.18228316, 0.11616802]),\n 'std_score_time': array([0.00639963, 0.00204684, 0.0018937 , 0.00093982, 0.00129869,\n        0.00235095, 0.00215281, 0.00288094, 0.00441415, 0.00557425]),\n 'param_n_neighbors': masked_array(data=[3, 3, 5, 5, 10, 10, 12, 12, 15, 15],\n              mask=[False, False, False, False, False, False, False, False,\n                    False, False],\n        fill_value='?',\n             dtype=object),\n 'param_weights': masked_array(data=['uniform', 'distance', 'uniform', 'distance',\n                    'uniform', 'distance', 'uniform', 'distance',\n                    'uniform', 'distance'],\n              mask=[False, False, False, False, False, False, False, False,\n                    False, False],\n        fill_value='?',\n             dtype=object),\n 'params': [{'n_neighbors': 3, 'weights': 'uniform'},\n  {'n_neighbors': 3, 'weights': 'distance'},\n  {'n_neighbors': 5, 'weights': 'uniform'},\n  {'n_neighbors': 5, 'weights': 'distance'},\n  {'n_neighbors': 10, 'weights': 'uniform'},\n  {'n_neighbors': 10, 'weights': 'distance'},\n  {'n_neighbors': 12, 'weights': 'uniform'},\n  {'n_neighbors': 12, 'weights': 'distance'},\n  {'n_neighbors': 15, 'weights': 'uniform'},\n  {'n_neighbors': 15, 'weights': 'distance'}],\n 'split0_test_score': array([0.44468085, 0.4534279 , 0.4607565 , 0.47399527, 0.46170213,\n        0.48014184, 0.45650118, 0.48108747, 0.45508274, 0.47895981]),\n 'split1_test_score': array([0.43390873, 0.4542445 , 0.45660913, 0.47528967, 0.45542681,\n        0.48238354, 0.45329865, 0.48049184, 0.44809648, 0.47623552]),\n 'split2_test_score': array([0.43982029, 0.4561362 , 0.45684559, 0.47221565, 0.4618113 ,\n        0.48191062, 0.45897375, 0.48332939, 0.46062899, 0.48049184]),\n 'mean_test_score': array([0.43946996, 0.45460287, 0.45807041, 0.47383353, 0.45964675,\n        0.48147867, 0.45625786, 0.48163623, 0.45460274, 0.47856239]),\n 'std_test_score': array([0.00440467, 0.00113433, 0.00190181, 0.00126016, 0.00298428,\n        0.00096479, 0.00232323, 0.00122169, 0.00512762, 0.00176021]),\n 'rank_test_score': array([10,  8,  6,  4,  5,  2,  7,  1,  9,  3])}"
     },
     "execution_count": 2,
     "metadata": {},
     "output_type": "execute_result"
    }
   ],
   "source": [
    "from sklearn.model_selection import GridSearchCV\n",
    "\n",
    "#网格搜索时讲解\n",
    "# # 构造一些参数的值进行搜索\n",
    "# dict---<string,list(int)/list(string)>\n",
    "param = {\"n_neighbors\": [3, 5, 10, 12, 15],'weights':['uniform', 'distance']}\n",
    "# print(type(param))\n",
    "# print(type(param[\"n_neighbors\"]))\n",
    "\n",
    "\n",
    "# 进行网格搜索，cv=3是3折交叉验证，用其中2折训练，1折验证\n",
    "gc = GridSearchCV(knn, param_grid=param, cv=3)\n",
    "\n",
    "gc.fit(x_train, y_train)  #你给它的x_train，它又分为训练集，验证集\n",
    "\n",
    "# 预测准确率，为了给大家看看\n",
    "print(\"在测试集上准确率：\", gc.score(x_test, y_test))\n",
    "\n",
    "print(\"在交叉验证当中最好的结果：\", gc.best_score_)\n",
    "\n",
    "print(\"选择最好的模型是：\", gc.best_estimator_)\n",
    "\n",
    "print(\"每个超参数每次交叉验证的结果：\", gc.cv_results_)\n",
    "gc.cv_results_"
   ],
   "metadata": {
    "collapsed": false,
    "pycharm": {
     "name": "#%%\n"
    }
   }
  }
 ],
 "metadata": {
  "kernelspec": {
   "display_name": "Python 3",
   "language": "python",
   "name": "python3"
  },
  "language_info": {
   "codemirror_mode": {
    "name": "ipython",
    "version": 2
   },
   "file_extension": ".py",
   "mimetype": "text/x-python",
   "name": "python",
   "nbconvert_exporter": "python",
   "pygments_lexer": "ipython2",
   "version": "2.7.6"
  }
 },
 "nbformat": 4,
 "nbformat_minor": 0
}